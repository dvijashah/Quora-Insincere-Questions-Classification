{
 "cells": [
  {
   "cell_type": "code",
   "execution_count": 1,
   "id": "edd38082",
   "metadata": {},
   "outputs": [],
   "source": [
    "import numpy as np\n",
    "import pandas as pd\n",
    "import matplotlib.pyplot as plt\n",
    "import seaborn as sns\n",
    "import operator\n",
    "import re\n",
    "\n",
    "\n",
    "from tensorflow.keras.preprocessing.text import Tokenizer\n",
    "from tensorflow.keras.preprocessing.sequence import pad_sequences\n",
    "from tensorflow.keras.layers import LSTM , RNN , Dense , Flatten , Embedding , Bidirectional , Dropout , GlobalMaxPool1D\n",
    "from tensorflow.keras.models import Sequential\n",
    "from sklearn.model_selection import train_test_split\n",
    "from sklearn.metrics import accuracy_score , classification_report , f1_score\n",
    "from tensorflow.keras.callbacks import ModelCheckpoint , ReduceLROnPlateau"
   ]
  },
  {
   "cell_type": "code",
   "execution_count": 69,
   "id": "17f12e6f",
   "metadata": {},
   "outputs": [
    {
     "name": "stdout",
     "output_type": "stream",
     "text": [
      "tf.Tensor([4. 6.], shape=(2,), dtype=float32)\n"
     ]
    }
   ],
   "source": [
    "import tensorflow.compat.v1 as tf \n",
    "\n",
    "tf.enable_eager_execution(tf.ConfigProto(log_device_placement=True)) \n",
    "\n",
    "print(tf.add([1.0, 2.0], [3.0, 4.0])) "
   ]
  },
  {
   "cell_type": "code",
   "execution_count": 2,
   "id": "b1eeee39",
   "metadata": {},
   "outputs": [],
   "source": [
    "train_df = pd.read_csv(\"data/train.csv\")\n",
    "test_df = pd.read_csv(\"data/test.csv\")"
   ]
  },
  {
   "cell_type": "code",
   "execution_count": 3,
   "id": "6c32fdf1",
   "metadata": {},
   "outputs": [
    {
     "name": "stdout",
     "output_type": "stream",
     "text": [
      "First 10 rows of training set\n"
     ]
    },
    {
     "data": {
      "text/html": [
       "<div>\n",
       "<style scoped>\n",
       "    .dataframe tbody tr th:only-of-type {\n",
       "        vertical-align: middle;\n",
       "    }\n",
       "\n",
       "    .dataframe tbody tr th {\n",
       "        vertical-align: top;\n",
       "    }\n",
       "\n",
       "    .dataframe thead th {\n",
       "        text-align: right;\n",
       "    }\n",
       "</style>\n",
       "<table border=\"1\" class=\"dataframe\">\n",
       "  <thead>\n",
       "    <tr style=\"text-align: right;\">\n",
       "      <th></th>\n",
       "      <th>qid</th>\n",
       "      <th>question_text</th>\n",
       "      <th>target</th>\n",
       "    </tr>\n",
       "  </thead>\n",
       "  <tbody>\n",
       "    <tr>\n",
       "      <th>0</th>\n",
       "      <td>00002165364db923c7e6</td>\n",
       "      <td>How did Quebec nationalists see their province...</td>\n",
       "      <td>0</td>\n",
       "    </tr>\n",
       "    <tr>\n",
       "      <th>1</th>\n",
       "      <td>000032939017120e6e44</td>\n",
       "      <td>Do you have an adopted dog, how would you enco...</td>\n",
       "      <td>0</td>\n",
       "    </tr>\n",
       "    <tr>\n",
       "      <th>2</th>\n",
       "      <td>0000412ca6e4628ce2cf</td>\n",
       "      <td>Why does velocity affect time? Does velocity a...</td>\n",
       "      <td>0</td>\n",
       "    </tr>\n",
       "    <tr>\n",
       "      <th>3</th>\n",
       "      <td>000042bf85aa498cd78e</td>\n",
       "      <td>How did Otto von Guericke used the Magdeburg h...</td>\n",
       "      <td>0</td>\n",
       "    </tr>\n",
       "    <tr>\n",
       "      <th>4</th>\n",
       "      <td>0000455dfa3e01eae3af</td>\n",
       "      <td>Can I convert montra helicon D to a mountain b...</td>\n",
       "      <td>0</td>\n",
       "    </tr>\n",
       "    <tr>\n",
       "      <th>5</th>\n",
       "      <td>00004f9a462a357c33be</td>\n",
       "      <td>Is Gaza slowly becoming Auschwitz, Dachau or T...</td>\n",
       "      <td>0</td>\n",
       "    </tr>\n",
       "    <tr>\n",
       "      <th>6</th>\n",
       "      <td>00005059a06ee19e11ad</td>\n",
       "      <td>Why does Quora automatically ban conservative ...</td>\n",
       "      <td>0</td>\n",
       "    </tr>\n",
       "    <tr>\n",
       "      <th>7</th>\n",
       "      <td>0000559f875832745e2e</td>\n",
       "      <td>Is it crazy if I wash or wipe my groceries off...</td>\n",
       "      <td>0</td>\n",
       "    </tr>\n",
       "    <tr>\n",
       "      <th>8</th>\n",
       "      <td>00005bd3426b2d0c8305</td>\n",
       "      <td>Is there such a thing as dressing moderately, ...</td>\n",
       "      <td>0</td>\n",
       "    </tr>\n",
       "    <tr>\n",
       "      <th>9</th>\n",
       "      <td>00006e6928c5df60eacb</td>\n",
       "      <td>Is it just me or have you ever been in this ph...</td>\n",
       "      <td>0</td>\n",
       "    </tr>\n",
       "  </tbody>\n",
       "</table>\n",
       "</div>"
      ],
      "text/plain": [
       "                    qid                                      question_text  \\\n",
       "0  00002165364db923c7e6  How did Quebec nationalists see their province...   \n",
       "1  000032939017120e6e44  Do you have an adopted dog, how would you enco...   \n",
       "2  0000412ca6e4628ce2cf  Why does velocity affect time? Does velocity a...   \n",
       "3  000042bf85aa498cd78e  How did Otto von Guericke used the Magdeburg h...   \n",
       "4  0000455dfa3e01eae3af  Can I convert montra helicon D to a mountain b...   \n",
       "5  00004f9a462a357c33be  Is Gaza slowly becoming Auschwitz, Dachau or T...   \n",
       "6  00005059a06ee19e11ad  Why does Quora automatically ban conservative ...   \n",
       "7  0000559f875832745e2e  Is it crazy if I wash or wipe my groceries off...   \n",
       "8  00005bd3426b2d0c8305  Is there such a thing as dressing moderately, ...   \n",
       "9  00006e6928c5df60eacb  Is it just me or have you ever been in this ph...   \n",
       "\n",
       "   target  \n",
       "0       0  \n",
       "1       0  \n",
       "2       0  \n",
       "3       0  \n",
       "4       0  \n",
       "5       0  \n",
       "6       0  \n",
       "7       0  \n",
       "8       0  \n",
       "9       0  "
      ]
     },
     "execution_count": 3,
     "metadata": {},
     "output_type": "execute_result"
    }
   ],
   "source": [
    "print('First 10 rows of training set')\n",
    "train_df.head(10)"
   ]
  },
  {
   "cell_type": "code",
   "execution_count": 4,
   "id": "370e7510",
   "metadata": {},
   "outputs": [
    {
     "name": "stdout",
     "output_type": "stream",
     "text": [
      "First 10 rows of test set\n"
     ]
    },
    {
     "data": {
      "text/html": [
       "<div>\n",
       "<style scoped>\n",
       "    .dataframe tbody tr th:only-of-type {\n",
       "        vertical-align: middle;\n",
       "    }\n",
       "\n",
       "    .dataframe tbody tr th {\n",
       "        vertical-align: top;\n",
       "    }\n",
       "\n",
       "    .dataframe thead th {\n",
       "        text-align: right;\n",
       "    }\n",
       "</style>\n",
       "<table border=\"1\" class=\"dataframe\">\n",
       "  <thead>\n",
       "    <tr style=\"text-align: right;\">\n",
       "      <th></th>\n",
       "      <th>qid</th>\n",
       "      <th>question_text</th>\n",
       "    </tr>\n",
       "  </thead>\n",
       "  <tbody>\n",
       "    <tr>\n",
       "      <th>0</th>\n",
       "      <td>0000163e3ea7c7a74cd7</td>\n",
       "      <td>Why do so many women become so rude and arroga...</td>\n",
       "    </tr>\n",
       "    <tr>\n",
       "      <th>1</th>\n",
       "      <td>00002bd4fb5d505b9161</td>\n",
       "      <td>When should I apply for RV college of engineer...</td>\n",
       "    </tr>\n",
       "    <tr>\n",
       "      <th>2</th>\n",
       "      <td>00007756b4a147d2b0b3</td>\n",
       "      <td>What is it really like to be a nurse practitio...</td>\n",
       "    </tr>\n",
       "    <tr>\n",
       "      <th>3</th>\n",
       "      <td>000086e4b7e1c7146103</td>\n",
       "      <td>Who are entrepreneurs?</td>\n",
       "    </tr>\n",
       "    <tr>\n",
       "      <th>4</th>\n",
       "      <td>0000c4c3fbe8785a3090</td>\n",
       "      <td>Is education really making good people nowadays?</td>\n",
       "    </tr>\n",
       "    <tr>\n",
       "      <th>5</th>\n",
       "      <td>000101884c19f3515c1a</td>\n",
       "      <td>How do you train a pigeon to send messages?</td>\n",
       "    </tr>\n",
       "    <tr>\n",
       "      <th>6</th>\n",
       "      <td>00010f62537781f44a47</td>\n",
       "      <td>What is the currency in Langkawi?</td>\n",
       "    </tr>\n",
       "    <tr>\n",
       "      <th>7</th>\n",
       "      <td>00012afbd27452239059</td>\n",
       "      <td>What is the future for Pandora, can the busine...</td>\n",
       "    </tr>\n",
       "    <tr>\n",
       "      <th>8</th>\n",
       "      <td>00014894849d00ba98a9</td>\n",
       "      <td>My voice range is A2-C5. My chest voice goes u...</td>\n",
       "    </tr>\n",
       "    <tr>\n",
       "      <th>9</th>\n",
       "      <td>000156468431f09b3cae</td>\n",
       "      <td>How much does a tutor earn in Bangalore?</td>\n",
       "    </tr>\n",
       "  </tbody>\n",
       "</table>\n",
       "</div>"
      ],
      "text/plain": [
       "                    qid                                      question_text\n",
       "0  0000163e3ea7c7a74cd7  Why do so many women become so rude and arroga...\n",
       "1  00002bd4fb5d505b9161  When should I apply for RV college of engineer...\n",
       "2  00007756b4a147d2b0b3  What is it really like to be a nurse practitio...\n",
       "3  000086e4b7e1c7146103                             Who are entrepreneurs?\n",
       "4  0000c4c3fbe8785a3090   Is education really making good people nowadays?\n",
       "5  000101884c19f3515c1a        How do you train a pigeon to send messages?\n",
       "6  00010f62537781f44a47                  What is the currency in Langkawi?\n",
       "7  00012afbd27452239059  What is the future for Pandora, can the busine...\n",
       "8  00014894849d00ba98a9  My voice range is A2-C5. My chest voice goes u...\n",
       "9  000156468431f09b3cae           How much does a tutor earn in Bangalore?"
      ]
     },
     "execution_count": 4,
     "metadata": {},
     "output_type": "execute_result"
    }
   ],
   "source": [
    "print('First 10 rows of test set')\n",
    "test_df.head(10)"
   ]
  },
  {
   "cell_type": "code",
   "execution_count": 5,
   "id": "7702d6ab",
   "metadata": {},
   "outputs": [
    {
     "data": {
      "text/plain": [
       "(1306122, 3)"
      ]
     },
     "execution_count": 5,
     "metadata": {},
     "output_type": "execute_result"
    }
   ],
   "source": [
    "train_df.shape"
   ]
  },
  {
   "cell_type": "code",
   "execution_count": 6,
   "id": "246d8b90",
   "metadata": {},
   "outputs": [
    {
     "data": {
      "text/plain": [
       "(375806, 2)"
      ]
     },
     "execution_count": 6,
     "metadata": {},
     "output_type": "execute_result"
    }
   ],
   "source": [
    "test_df.shape"
   ]
  },
  {
   "cell_type": "code",
   "execution_count": 7,
   "id": "11469cc4",
   "metadata": {},
   "outputs": [
    {
     "name": "stdout",
     "output_type": "stream",
     "text": [
      "<class 'pandas.core.frame.DataFrame'>\n",
      "RangeIndex: 1306122 entries, 0 to 1306121\n",
      "Data columns (total 3 columns):\n",
      " #   Column         Non-Null Count    Dtype \n",
      "---  ------         --------------    ----- \n",
      " 0   qid            1306122 non-null  object\n",
      " 1   question_text  1306122 non-null  object\n",
      " 2   target         1306122 non-null  int64 \n",
      "dtypes: int64(1), object(2)\n",
      "memory usage: 29.9+ MB\n"
     ]
    }
   ],
   "source": [
    "train_df.info()"
   ]
  },
  {
   "cell_type": "code",
   "execution_count": 8,
   "id": "d8a4f017",
   "metadata": {},
   "outputs": [
    {
     "name": "stdout",
     "output_type": "stream",
     "text": [
      "<class 'pandas.core.frame.DataFrame'>\n",
      "RangeIndex: 375806 entries, 0 to 375805\n",
      "Data columns (total 2 columns):\n",
      " #   Column         Non-Null Count   Dtype \n",
      "---  ------         --------------   ----- \n",
      " 0   qid            375806 non-null  object\n",
      " 1   question_text  375806 non-null  object\n",
      "dtypes: object(2)\n",
      "memory usage: 5.7+ MB\n"
     ]
    }
   ],
   "source": [
    "test_df.info()"
   ]
  },
  {
   "cell_type": "code",
   "execution_count": 9,
   "id": "49c69be8",
   "metadata": {
    "scrolled": true
   },
   "outputs": [
    {
     "data": {
      "text/html": [
       "<div>\n",
       "<style scoped>\n",
       "    .dataframe tbody tr th:only-of-type {\n",
       "        vertical-align: middle;\n",
       "    }\n",
       "\n",
       "    .dataframe tbody tr th {\n",
       "        vertical-align: top;\n",
       "    }\n",
       "\n",
       "    .dataframe thead th {\n",
       "        text-align: right;\n",
       "    }\n",
       "</style>\n",
       "<table border=\"1\" class=\"dataframe\">\n",
       "  <thead>\n",
       "    <tr style=\"text-align: right;\">\n",
       "      <th></th>\n",
       "      <th>target</th>\n",
       "    </tr>\n",
       "  </thead>\n",
       "  <tbody>\n",
       "    <tr>\n",
       "      <th>count</th>\n",
       "      <td>1.306122e+06</td>\n",
       "    </tr>\n",
       "    <tr>\n",
       "      <th>mean</th>\n",
       "      <td>6.187018e-02</td>\n",
       "    </tr>\n",
       "    <tr>\n",
       "      <th>std</th>\n",
       "      <td>2.409197e-01</td>\n",
       "    </tr>\n",
       "    <tr>\n",
       "      <th>min</th>\n",
       "      <td>0.000000e+00</td>\n",
       "    </tr>\n",
       "    <tr>\n",
       "      <th>25%</th>\n",
       "      <td>0.000000e+00</td>\n",
       "    </tr>\n",
       "    <tr>\n",
       "      <th>50%</th>\n",
       "      <td>0.000000e+00</td>\n",
       "    </tr>\n",
       "    <tr>\n",
       "      <th>75%</th>\n",
       "      <td>0.000000e+00</td>\n",
       "    </tr>\n",
       "    <tr>\n",
       "      <th>max</th>\n",
       "      <td>1.000000e+00</td>\n",
       "    </tr>\n",
       "  </tbody>\n",
       "</table>\n",
       "</div>"
      ],
      "text/plain": [
       "             target\n",
       "count  1.306122e+06\n",
       "mean   6.187018e-02\n",
       "std    2.409197e-01\n",
       "min    0.000000e+00\n",
       "25%    0.000000e+00\n",
       "50%    0.000000e+00\n",
       "75%    0.000000e+00\n",
       "max    1.000000e+00"
      ]
     },
     "execution_count": 9,
     "metadata": {},
     "output_type": "execute_result"
    }
   ],
   "source": [
    "train_df.describe()"
   ]
  },
  {
   "cell_type": "code",
   "execution_count": 10,
   "id": "e002c9b8",
   "metadata": {
    "scrolled": true
   },
   "outputs": [
    {
     "data": {
      "image/png": "[encoded data removed]",
      "text/plain": [
       "<Figure size 432x288 with 1 Axes>"
      ]
     },
     "metadata": {
      "needs_background": "light"
     },
     "output_type": "display_data"
    }
   ],
   "source": [
    "plt.figure()\n",
    "sns.countplot(x=\"target\", data=train_df)\n",
    "plt.title(\"Sincere vs Insincere Target Count\", fontsize=14)\n",
    "plt.xticks([0,1],['Sincere','Insincere'])\n",
    "plt.ticklabel_format(axis='y', style='plain')\n",
    "plt.show()"
   ]
  },
  {
   "cell_type": "code",
   "execution_count": 11,
   "id": "b3fd2ca0",
   "metadata": {},
   "outputs": [
    {
     "data": {
      "text/plain": [
       "0    1225312\n",
       "1      80810\n",
       "Name: target, dtype: int64"
      ]
     },
     "execution_count": 11,
     "metadata": {},
     "output_type": "execute_result"
    }
   ],
   "source": [
    "train_df['target'].value_counts()"
   ]
  },
  {
   "cell_type": "markdown",
   "id": "6906d4c5",
   "metadata": {},
   "source": [
    "Data is highly imbalanced"
   ]
  },
  {
   "cell_type": "code",
   "execution_count": 13,
   "id": "b39525ee",
   "metadata": {},
   "outputs": [
    {
     "data": {
      "text/html": [
       "<div>\n",
       "<style scoped>\n",
       "    .dataframe tbody tr th:only-of-type {\n",
       "        vertical-align: middle;\n",
       "    }\n",
       "\n",
       "    .dataframe tbody tr th {\n",
       "        vertical-align: top;\n",
       "    }\n",
       "\n",
       "    .dataframe thead th {\n",
       "        text-align: right;\n",
       "    }\n",
       "</style>\n",
       "<table border=\"1\" class=\"dataframe\">\n",
       "  <thead>\n",
       "    <tr style=\"text-align: right;\">\n",
       "      <th></th>\n",
       "      <th>qid</th>\n",
       "      <th>question_text</th>\n",
       "      <th>target</th>\n",
       "    </tr>\n",
       "  </thead>\n",
       "  <tbody>\n",
       "  </tbody>\n",
       "</table>\n",
       "</div>"
      ],
      "text/plain": [
       "Empty DataFrame\n",
       "Columns: [qid, question_text, target]\n",
       "Index: []"
      ]
     },
     "execution_count": 13,
     "metadata": {},
     "output_type": "execute_result"
    }
   ],
   "source": [
    "train_df.loc[train_df['qid']=='']"
   ]
  },
  {
   "cell_type": "markdown",
   "id": "c61a2ce7",
   "metadata": {},
   "source": [
    "### Preprocessing"
   ]
  },
  {
   "cell_type": "markdown",
   "id": "f2cf05e6",
   "metadata": {},
   "source": [
    "Create Vocab"
   ]
  },
  {
   "cell_type": "code",
   "execution_count": 14,
   "id": "f58be779",
   "metadata": {},
   "outputs": [],
   "source": [
    "def vocabulary(text):\n",
    "    text = text.apply(lambda x: x.split()).values\n",
    "    vocab = {}\n",
    "    for sentences in text:\n",
    "        for word in sentences:\n",
    "            try:\n",
    "                vocab[word] += 1\n",
    "            except KeyError:\n",
    "                vocab[word] = 1\n",
    "    return vocab\n",
    "            "
   ]
  },
  {
   "cell_type": "code",
   "execution_count": 15,
   "id": "3df1a293",
   "metadata": {},
   "outputs": [],
   "source": [
    "vocab = vocabulary(train_df['question_text'])"
   ]
  },
  {
   "cell_type": "code",
   "execution_count": 16,
   "id": "ecb6de43",
   "metadata": {},
   "outputs": [],
   "source": [
    "# for key, value in vocab.items():\n",
    "#    print(key, ' : ', value)"
   ]
  },
  {
   "cell_type": "code",
   "execution_count": 17,
   "id": "fcfcc554",
   "metadata": {
    "scrolled": true
   },
   "outputs": [
    {
     "name": "stdout",
     "output_type": "stream",
     "text": [
      "{'How': 261930}\n",
      "{'did': 33489}\n",
      "{'Quebec': 97}\n",
      "{'nationalists': 91}\n",
      "{'see': 9003}\n",
      "{'their': 34810}\n",
      "{'province': 124}\n",
      "{'as': 55047}\n",
      "{'a': 402682}\n",
      "{'nation': 780}\n",
      "{'in': 363131}\n",
      "{'the': 653948}\n",
      "{'1960s?': 56}\n",
      "{'Do': 40041}\n",
      "{'you': 186436}\n",
      "{'have': 83239}\n",
      "{'an': 66779}\n",
      "{'adopted': 298}\n",
      "{'dog,': 81}\n",
      "{'how': 25842}\n",
      "{'would': 51374}\n",
      "{'encourage': 386}\n",
      "{'people': 48317}\n",
      "{'to': 403183}\n",
      "{'adopt': 445}\n",
      "{'and': 251973}\n",
      "{'not': 41901}\n",
      "{'shop?': 176}\n",
      "{'Why': 142291}\n",
      "{'does': 62725}\n"
     ]
    }
   ],
   "source": [
    "for k in list(vocab)[:30]:\n",
    "    print({k:vocab[k]})"
   ]
  },
  {
   "cell_type": "markdown",
   "id": "747ce725",
   "metadata": {},
   "source": [
    "Load Embeddings"
   ]
  },
  {
   "cell_type": "code",
   "execution_count": 18,
   "id": "cc17bccc",
   "metadata": {},
   "outputs": [
    {
     "name": "stdout",
     "output_type": "stream",
     "text": [
      "GloVe data loaded\n"
     ]
    }
   ],
   "source": [
    "embeddings_index = {}\n",
    "f = open('glove.840B.300d/glove.840B.300d.txt', encoding='utf8')\n",
    "for line in f:\n",
    "    values = line.split(' ')\n",
    "    word = values[0] ## The first entry is the word\n",
    "    coefs = np.asarray(values[1:], dtype='float32') ## These are the vecotrs representing the embedding for the word\n",
    "    embeddings_index[word] = coefs\n",
    "f.close()\n",
    "\n",
    "print('GloVe data loaded')"
   ]
  },
  {
   "cell_type": "markdown",
   "id": "eb37e0c4",
   "metadata": {},
   "source": [
    "Check the vocabulary which exists in the embeddings"
   ]
  },
  {
   "cell_type": "code",
   "execution_count": 19,
   "id": "d6ffed2c",
   "metadata": {},
   "outputs": [],
   "source": [
    "def check_oov(vocab,embeddings):\n",
    "    a={}\n",
    "    oov={}\n",
    "    k=0\n",
    "    i=0\n",
    "    \n",
    "    for word in vocab:\n",
    "        try:\n",
    "            a[word] = embeddings[word]\n",
    "            k += vocab[word]\n",
    "        except:\n",
    "            oov[word] = vocab[word]\n",
    "            i += vocab[word]\n",
    "            pass\n",
    "    print('Found embeddings for {:.2%} of vocab'.format(len(a) / len(vocab)))\n",
    "    print('Found embeddings for  {:.2%} of all text'.format(k / (k + i)))\n",
    "    sorted_oov = sorted(oov.items(), key=operator.itemgetter(1))[::-1]\n",
    "    \n",
    "    return sorted_oov\n"
   ]
  },
  {
   "cell_type": "code",
   "execution_count": 20,
   "id": "355b5aea",
   "metadata": {},
   "outputs": [
    {
     "name": "stdout",
     "output_type": "stream",
     "text": [
      "Found embeddings for 33.16% of vocab\n",
      "Found embeddings for  88.16% of all text\n"
     ]
    }
   ],
   "source": [
    "oov = check_oov(vocab, embeddings_index)"
   ]
  },
  {
   "cell_type": "code",
   "execution_count": 21,
   "id": "0ef93a4a",
   "metadata": {},
   "outputs": [
    {
     "data": {
      "text/plain": [
       "[('India?', 16384),\n",
       " ('it?', 12900),\n",
       " (\"What's\", 12425),\n",
       " ('do?', 8753),\n",
       " ('life?', 7753),\n",
       " ('you?', 6295),\n",
       " ('me?', 6202),\n",
       " ('them?', 6140),\n",
       " ('time?', 5716),\n",
       " ('world?', 5386),\n",
       " ('people?', 4971),\n",
       " ('why?', 4943),\n",
       " ('Quora?', 4655),\n",
       " ('like?', 4487),\n",
       " ('for?', 4450),\n",
       " ('work?', 4206),\n",
       " ('2017?', 4050),\n",
       " ('mean?', 3971),\n",
       " ('2018?', 3594),\n",
       " ('country?', 3422)]"
      ]
     },
     "execution_count": 21,
     "metadata": {},
     "output_type": "execute_result"
    }
   ],
   "source": [
    "oov[:20]"
   ]
  },
  {
   "cell_type": "markdown",
   "id": "310076d2",
   "metadata": {},
   "source": [
    "Try to incorporate the oov into the embedding vocab"
   ]
  },
  {
   "cell_type": "code",
   "execution_count": 22,
   "id": "e8c6c483",
   "metadata": {},
   "outputs": [],
   "source": [
    "def clean_text(vocab):\n",
    "    \n",
    "    vocab = str(vocab)\n",
    "    for i in \"?\":\n",
    "        vocab = vocab.replace(i,' ?')\n",
    "    for i in '?!.,\"#$%\\'()*+-/:;<=>@[\\\\]^_`{|}~‘' + '“”’' + '...':\n",
    "        vocab = vocab.replace(i,' ')\n",
    "    for i in '£है₹':\n",
    "        vocab = vocab.replace(i,' ')\n",
    "    for i in \"  \":\n",
    "        vocab = vocab.replace(i,' ')\n",
    "    \n",
    "    return vocab\n",
    "\n",
    "#without the dictionary i'm getting 60% of the voabulary present in the embeddings.\n",
    "#I will try to increase it by creating a dictionary for the misspelled words, acronyms, joined words and unknown words.\n",
    "\n",
    "\n",
    "mispell_dict = {'Quorans':'Quora users',\n",
    "                'cryptocurrencies':'cryptocurrency',\n",
    "                'Brexit':'Britan exit',\n",
    "                'Redmi':'phone company',\n",
    "                'Quoras':'quora',\n",
    "                '201718':'2017-2018',\n",
    "                'Jongun':'Jong-un',\n",
    "                'OnePlus':'phone company',\n",
    "                'UCEED':'Undergraduate Common Entrance Examination for Design',\n",
    "                'nonMuslims':'non-muslim',\n",
    "                'nonMuslim':'non-muslim',\n",
    "                'GDPR':'General Data Protection Regulation',\n",
    "                'demonitisation':'demonetization',\n",
    "                'Blockchain':'blockchain',\n",
    "                'Coinbase':'cryptocurrency exchange company',\n",
    "                'SJWs':'social justice warriors',\n",
    "                'selfdriving':'self-driving',\n",
    "                '20172018':'2017-2018',\n",
    "                'BNBR':'Be Nice Be Respectful',\n",
    "                'MUOET':'University online entrance test',\n",
    "                'Boruto':'Japanese manga',\n",
    "                'IIEST':'University',\n",
    "                'ethereum':'bitcoin',\n",
    "                'DCEU':'DC',\n",
    "                'altright':'Alternative Right political ideology',\n",
    "                'Qoura':'Quora',\n",
    "                'UIUX':'UI UX',\n",
    "                'BJPs':'BJP',\n",
    "                'isare':'is are',\n",
    "                'JongUn':'Jong-un',\n",
    "                'AfricanAmericans':'African-Americans',\n",
    "                'B1B2':'B1-B2',\n",
    "                'LNMIIT':'university',\n",
    "                'MHCET':'Common Entrance Test',\n",
    "                'Upwork':'freelancing platform',\n",
    "                'antiSemitic':'anti-Semitic',\n",
    "                'etc   ':'etc',\n",
    "                'iswas':'is was',\n",
    "                'antiTrump':'anti Trump',\n",
    "                'NICMAR':'university',\n",
    "                'MHTCET':'Common Entrance Test',\n",
    "                'DelhiNCR':'Delhi',\n",
    "                'A2ad':'military strategy',\n",
    "                '17yearold':'17 year old',\n",
    "                'MyersBriggs':'Myers-Briggs',\n",
    "                '201617':'2016-2017',\n",
    "                'chsl':'conference',\n",
    "                '13yearold':'13 year old',\n",
    "                '14yearold':'14 year old',\n",
    "                '201819':'2018-2019',\n",
    "                'HackerRank':'educational website',\n",
    "                'IIITH':'university',\n",
    "                'nonEU':'non-EU',\n",
    "                'eLitmus':'recruitment company',\n",
    "                'selfstudy':'self-study',\n",
    "                'Jiren':'fictional character',\n",
    "                'Litecoin':'cryptocurrency',\n",
    "                'altcoins':'cryptocurrency',\n",
    "                'Cryptocurrency':'cryptocurrency',\n",
    "                'bSC':'Bachelor of Science',\n",
    "                '15yearold':'15 year old',\n",
    "                'altcoin':'cryptocurrency',\n",
    "                'Ryzen':'processor',\n",
    "                'IsraelPalestine':'Israel Palestine',\n",
    "                'SRMJEE':'entrance exam',\n",
    "                'wasis':'was is',\n",
    "                'nonEnglish':'non-English',\n",
    "                'nonJews':'non-Jews',\n",
    "                '16yearold':'16 year old',\n",
    "                'coinbase':'cryptocurrency exchange company',\n",
    "                '&amp':'ampersand',\n",
    "                'Amazonin':'Amazon India',\n",
    "                'Beerus':'fictional character',\n",
    "                'SGSITS':'university',\n",
    "                'IndoEuropean':'Indo-European',\n",
    "                '12yearold':'12 year old',\n",
    "                'dydx':'dydx',\n",
    "                '20182019':'2018-2019',\n",
    "                'Binance':'cryptocurrency exchange company',\n",
    "                'Bschools':'Business Schools',\n",
    "                'What\\u200b':'What',\n",
    "                'Zebpay':'cryptocurrency exchange company',\n",
    "                'demonetisation':'demonetization',\n",
    "                'Demonetization':'demonetization',\n",
    "                'Zerodha':'stock exchange company',\n",
    "                'Vajiram':'IAS coaching intitute',\n",
    "                'Unacademy':'Online educational platform',\n",
    "                'litecoin':'cryptocurrency',\n",
    "                'etcand':'etc and',\n",
    "                'Whst':'what',\n",
    "                'examE':'exam',\n",
    "                'etcin':'etc in',\n",
    "                'brexit':'britan exit',\n",
    "                'intitute':'institute'\n",
    "               }  \n",
    "\n",
    "def _get_mispell(mispell_dict):\n",
    "    mispell_re = re.compile('(%s)' % '|'.join(mispell_dict.keys()))\n",
    "    return mispell_dict, mispell_re\n",
    "\n",
    "mispellings, mispellings_re = _get_mispell(mispell_dict)\n",
    "def replace_typical_misspell(text):\n",
    "    def replace(match):\n",
    "        return mispellings[match.group(0)]\n",
    "    return mispellings_re.sub(replace, text)"
   ]
  },
  {
   "cell_type": "code",
   "execution_count": 37,
   "id": "4a26afdd",
   "metadata": {},
   "outputs": [],
   "source": [
    "train_df[\"question_text\"] = train_df[\"question_text\"].apply(lambda x: replace_typical_misspell(x))\n",
    "train_df['question_text'] = train_df['question_text'].apply(lambda x: clean_text(x))\n",
    "vocab = vocabulary(train_df['question_text'])\n",
    "\n",
    "test_df[\"question_text\"] = test_df[\"question_text\"].apply(lambda x: replace_typical_misspell(x))\n",
    "test_df['question_text'] = test_df['question_text'].apply(lambda x: clean_text(x))"
   ]
  },
  {
   "cell_type": "code",
   "execution_count": 24,
   "id": "d66bcb6c",
   "metadata": {},
   "outputs": [
    {
     "name": "stdout",
     "output_type": "stream",
     "text": [
      "Found embeddings for 74.24% of vocab\n",
      "Found embeddings for  99.54% of all text\n"
     ]
    }
   ],
   "source": [
    "oov = check_oov(vocab, embeddings_index)"
   ]
  },
  {
   "cell_type": "code",
   "execution_count": 25,
   "id": "3f098f88",
   "metadata": {},
   "outputs": [
    {
     "data": {
      "text/plain": [
       "[('Adityanath', 99),\n",
       " ('Machedo', 99),\n",
       " ('Kavalireddi', 65),\n",
       " ('etc…', 63),\n",
       " ('bhakts', 63),\n",
       " ('Doklam', 62),\n",
       " ('intitute', 59),\n",
       " ('AlShamsi', 52),\n",
       " ('Bhakts', 51),\n",
       " ('Awdhesh', 48),\n",
       " ('Baahubali', 44),\n",
       " ('x²', 42),\n",
       " ('Skripal', 40),\n",
       " ('bahubali', 38),\n",
       " ('BMSCE', 37),\n",
       " ('Ravula', 36),\n",
       " ('Alshamsi', 36),\n",
       " ('Gurugram', 36),\n",
       " ('josaa', 35),\n",
       " ('examE', 35)]"
      ]
     },
     "execution_count": 25,
     "metadata": {},
     "output_type": "execute_result"
    }
   ],
   "source": [
    "oov[:20]"
   ]
  },
  {
   "cell_type": "markdown",
   "id": "559a86a4",
   "metadata": {},
   "source": [
    "### Modelling"
   ]
  },
  {
   "cell_type": "code",
   "execution_count": 38,
   "id": "7a43243e",
   "metadata": {},
   "outputs": [],
   "source": [
    "train, val = train_test_split(train_df, test_size=0.2, random_state=42)\n",
    "\n",
    "X_train = train['question_text']\n",
    "X_val = val['question_text']\n",
    "X_test = test_df['question_text']\n",
    "\n",
    "vocab_size = 50000\n",
    "dimensions_size=300\n",
    "max_length=100\n",
    "\n",
    "#Initiate tokenizer\n",
    "tokenizer = Tokenizer(num_words = vocab_size)\n",
    "\n",
    "#getting list of train text and fitting tokenizer on texts\n",
    "text = list(train_df['question_text'])\n",
    "tokenizer.fit_on_texts(text)\n",
    "\n",
    "#converting tokens of text into sequence of integers\n",
    "X_train = tokenizer.texts_to_sequences(X_train)\n",
    "X_val = tokenizer.texts_to_sequences(X_val)\n",
    "X_test = tokenizer.texts_to_sequences(X_test)\n",
    "\n",
    "#adding padding to make length of texts uniform\n",
    "X_train = pad_sequences(X_train, maxlen=max_length)\n",
    "X_val = pad_sequences(X_val, maxlen=max_length)\n",
    "X_test = pad_sequences(X_test, maxlen=max_length)\n",
    "\n",
    "y_train = train['target']\n",
    "y_val = val['target']"
   ]
  },
  {
   "cell_type": "code",
   "execution_count": 39,
   "id": "85d02659",
   "metadata": {},
   "outputs": [
    {
     "data": {
      "text/plain": [
       "198619"
      ]
     },
     "execution_count": 39,
     "metadata": {},
     "output_type": "execute_result"
    }
   ],
   "source": [
    "len(tokenizer.word_index)"
   ]
  },
  {
   "cell_type": "code",
   "execution_count": 41,
   "id": "6ab2207e",
   "metadata": {},
   "outputs": [],
   "source": [
    "#tokenizer.word_index.items()"
   ]
  },
  {
   "cell_type": "code",
   "execution_count": 50,
   "id": "458b5a9a",
   "metadata": {},
   "outputs": [],
   "source": [
    "#creating the embeddings vectors\n",
    "\n",
    "def embedding_weights(vocab,embedding):  \n",
    "    \n",
    "    vocab_size = len(vocab)+1\n",
    "    weight_matrix = np.zeros((vocab_size,300)) #each word with 300 dimensions\n",
    "    \n",
    "    for word , i in vocab.items():\n",
    "        vector = embedding.get(word)\n",
    "        if vector is not None:\n",
    "            weight_matrix[i] = vector\n",
    "            \n",
    "    return(weight_matrix)\n"
   ]
  },
  {
   "cell_type": "code",
   "execution_count": 51,
   "id": "4eac74f8",
   "metadata": {},
   "outputs": [],
   "source": [
    "embedding_vectors = embedding_weights(tokenizer.word_index, embeddings_index)"
   ]
  },
  {
   "cell_type": "code",
   "execution_count": 52,
   "id": "fa778caf",
   "metadata": {},
   "outputs": [
    {
     "data": {
      "text/plain": [
       "(198620, 300)"
      ]
     },
     "execution_count": 52,
     "metadata": {},
     "output_type": "execute_result"
    }
   ],
   "source": [
    "embedding_vectors.shape"
   ]
  },
  {
   "cell_type": "code",
   "execution_count": null,
   "id": "c6d784c4",
   "metadata": {},
   "outputs": [],
   "source": []
  },
  {
   "cell_type": "markdown",
   "id": "fe14512e",
   "metadata": {},
   "source": [
    "Bi-directional LSTM"
   ]
  },
  {
   "cell_type": "code",
   "execution_count": 59,
   "id": "178aea79",
   "metadata": {},
   "outputs": [
    {
     "name": "stdout",
     "output_type": "stream",
     "text": [
      "Model: \"sequential_1\"\n",
      "_________________________________________________________________\n",
      " Layer (type)                Output Shape              Param #   \n",
      "=================================================================\n",
      " embedding_1 (Embedding)     (None, None, 300)         59586000  \n",
      "                                                                 \n",
      " bidirectional_1 (Bidirectio  (None, None, 128)        186880    \n",
      " nal)                                                            \n",
      "                                                                 \n",
      " global_max_pooling1d_1 (Glo  (None, 128)              0         \n",
      " balMaxPooling1D)                                                \n",
      "                                                                 \n",
      " dense_2 (Dense)             (None, 16)                2064      \n",
      "                                                                 \n",
      " dropout_1 (Dropout)         (None, 16)                0         \n",
      "                                                                 \n",
      " dense_3 (Dense)             (None, 1)                 17        \n",
      "                                                                 \n",
      "=================================================================\n",
      "Total params: 59,774,961\n",
      "Trainable params: 59,774,961\n",
      "Non-trainable params: 0\n",
      "_________________________________________________________________\n"
     ]
    }
   ],
   "source": [
    "embedding_layer = Embedding(len(tokenizer.word_index)+1,300,weights=[embedding_vectors])\n",
    "model = Sequential()\n",
    "model.add(embedding_layer)\n",
    "model.add(Bidirectional(LSTM(64,return_sequences=True)))\n",
    "model.add(GlobalMaxPool1D())\n",
    "model.add(Dense(16,activation='relu'))\n",
    "model.add(Dropout(0.2))\n",
    "model.add(Dense(1,activation='sigmoid'))\n",
    "\n",
    "\n",
    "model.summary()"
   ]
  },
  {
   "cell_type": "code",
   "execution_count": 63,
   "id": "1809e5a3",
   "metadata": {},
   "outputs": [],
   "source": [
    "checkpoint = ModelCheckpoint(\n",
    "    filepath= 'model1.h5', \n",
    "    monitor = 'val_accuracy', \n",
    "    verbose = 1, \n",
    "    save_best_only = True\n",
    ")\n",
    "\n",
    "reduce_lr = ReduceLROnPlateau(\n",
    "    monitor = 'val_loss', \n",
    "    factor = 0.2, \n",
    "    verbose = 1, \n",
    "    patience = 5,                        \n",
    "    min_lr = 0.001\n",
    ")\n",
    "\n",
    "model.compile(loss='binary_crossentropy',optimizer='Adam',metrics=['accuracy'])"
   ]
  },
  {
   "cell_type": "code",
   "execution_count": 64,
   "id": "6fc9a6ab",
   "metadata": {},
   "outputs": [
    {
     "name": "stdout",
     "output_type": "stream",
     "text": [
      "Epoch 1/5\n",
      "2041/2041 [==============================] - ETA: 0s - loss: 0.1168 - accuracy: 0.9551WARNING:tensorflow:Can save best model only with val_acc available, skipping.\n",
      "2041/2041 [==============================] - 5955s 3s/step - loss: 0.1168 - accuracy: 0.9551 - val_loss: 0.1000 - val_accuracy: 0.9603\n",
      "Epoch 2/5\n",
      "2041/2041 [==============================] - ETA: 0s - loss: 0.0953 - accuracy: 0.9622WARNING:tensorflow:Can save best model only with val_acc available, skipping.\n",
      "2041/2041 [==============================] - 5578s 3s/step - loss: 0.0953 - accuracy: 0.9622 - val_loss: 0.0985 - val_accuracy: 0.9609\n",
      "Epoch 3/5\n",
      "2041/2041 [==============================] - ETA: 0s - loss: 0.0824 - accuracy: 0.9673WARNING:tensorflow:Can save best model only with val_acc available, skipping.\n",
      "2041/2041 [==============================] - 5692s 3s/step - loss: 0.0824 - accuracy: 0.9673 - val_loss: 0.1027 - val_accuracy: 0.9599\n",
      "Epoch 4/5\n",
      "2041/2041 [==============================] - ETA: 0s - loss: 0.0680 - accuracy: 0.9728WARNING:tensorflow:Can save best model only with val_acc available, skipping.\n",
      "2041/2041 [==============================] - 5762s 3s/step - loss: 0.0680 - accuracy: 0.9728 - val_loss: 0.1146 - val_accuracy: 0.9571\n",
      "Epoch 5/5\n",
      "2041/2041 [==============================] - ETA: 0s - loss: 0.0537 - accuracy: 0.9785WARNING:tensorflow:Can save best model only with val_acc available, skipping.\n",
      "2041/2041 [==============================] - 5702s 3s/step - loss: 0.0537 - accuracy: 0.9785 - val_loss: 0.1352 - val_accuracy: 0.9554\n"
     ]
    }
   ],
   "source": [
    "hist=model.fit(X_train,y_train,validation_data=(X_val,y_val),epochs=5,batch_size=512,callbacks=[checkpoint,reduce_lr])\n",
    "for key in hist.history:\n",
    "print(key)\n",
    "model.save('./model2.h5')"
   ]
  },
  {
   "cell_type": "code",
   "execution_count": 65,
   "id": "3d7aa763",
   "metadata": {},
   "outputs": [
    {
     "name": "stdout",
     "output_type": "stream",
     "text": [
      "511/511 [==============================] - 292s 569ms/step\n",
      "**** F1 Score with 0.1 value ****  0.5937907175270701\n",
      "**** F1 Score with 0.11 value ****  0.5977879932638478\n",
      "**** F1 Score with 0.12 value ****  0.6017380881030866\n",
      "**** F1 Score with 0.13 value ****  0.6054399552113465\n",
      "**** F1 Score with 0.14 value ****  0.6090992625403483\n",
      "**** F1 Score with 0.15 value ****  0.6120262807084365\n",
      "**** F1 Score with 0.16 value ****  0.6147820654524485\n",
      "**** F1 Score with 0.17 value ****  0.6166363966581911\n",
      "**** F1 Score with 0.18 value ****  0.6193813023414801\n",
      "**** F1 Score with 0.19 value ****  0.6217746700807564\n",
      "**** F1 Score with 0.2 value ****  0.6238031453093218\n",
      "**** F1 Score with 0.21 value ****  0.6257754652791675\n",
      "**** F1 Score with 0.22 value ****  0.6275882916015919\n",
      "**** F1 Score with 0.23 value ****  0.6292893401015228\n",
      "**** F1 Score with 0.24 value ****  0.6312129269789324\n",
      "**** F1 Score with 0.25 value ****  0.6333462083172396\n",
      "**** F1 Score with 0.26 value ****  0.6353526712808151\n",
      "**** F1 Score with 0.27 value ****  0.6364205256570713\n",
      "**** F1 Score with 0.28 value ****  0.637656815915175\n",
      "**** F1 Score with 0.29 value ****  0.6391910444608724\n",
      "**** F1 Score with 0.3 value ****  0.6404548111152437\n",
      "**** F1 Score with 0.31 value ****  0.6421238370227783\n",
      "**** F1 Score with 0.32 value ****  0.6426803013993541\n",
      "**** F1 Score with 0.33 value ****  0.643348313390005\n",
      "**** F1 Score with 0.34 value ****  0.6440511843179962\n",
      "**** F1 Score with 0.35 value ****  0.6451595234834999\n",
      "**** F1 Score with 0.36 value ****  0.6459079636263433\n",
      "**** F1 Score with 0.37 value ****  0.6463039441226198\n",
      "**** F1 Score with 0.38 value ****  0.6470899913550294\n",
      "**** F1 Score with 0.39 value ****  0.6475324748197402\n",
      "**** F1 Score with 0.4 value ****  0.6482731354663805\n",
      "**** F1 Score with 0.41 value ****  0.6490390083020585\n",
      "**** F1 Score with 0.42 value ****  0.6495882891125343\n",
      "**** F1 Score with 0.43 value ****  0.649482163406214\n",
      "**** F1 Score with 0.44 value ****  0.6489725036179451\n",
      "**** F1 Score with 0.45 value ****  0.6492143544296417\n",
      "**** F1 Score with 0.46 value ****  0.6488011283497884\n",
      "**** F1 Score with 0.47 value ****  0.6470763367869478\n",
      "**** F1 Score with 0.48 value ****  0.6463209698715642\n",
      "**** F1 Score with 0.49 value ****  0.6451573849878934\n",
      "**** F1 Score with 0.5 value ****  0.6440108698971023\n"
     ]
    }
   ],
   "source": [
    "pred_val = model.predict(X_val,batch_size=512,verbose=1).squeeze()\n",
    "\n",
    "thresholds = []\n",
    "for thresh in np.arange(0.1,0.501,0.01):\n",
    "    thresh = np.round(thresh,2)\n",
    "    res = metrics.f1_score(y_val, (pred_val > thresh).astype(int))\n",
    "    thresholds.append([thresh, res])\n",
    "    print(\"F1 score at threshold {0} is {1}\".format(thresh, res))"
   ]
  },
  {
   "cell_type": "code",
   "execution_count": 66,
   "id": "e4f7157e",
   "metadata": {},
   "outputs": [
    {
     "name": "stdout",
     "output_type": "stream",
     "text": [
      "734/734 [==============================] - 405s 552ms/step\n"
     ]
    }
   ],
   "source": [
    "preds_test = model.predict(X_test,batch_size=512,verbose=1).squeeze()"
   ]
  },
  {
   "cell_type": "code",
   "execution_count": 67,
   "id": "13b5cac4",
   "metadata": {},
   "outputs": [],
   "source": [
    "submission= pd.DataFrame({'qid':test_df['qid'],'prediction': preds_test})"
   ]
  },
  {
   "cell_type": "code",
   "execution_count": 70,
   "id": "0edb7e6b",
   "metadata": {},
   "outputs": [
    {
     "data": {
      "text/html": [
       "<div>\n",
       "<style scoped>\n",
       "    .dataframe tbody tr th:only-of-type {\n",
       "        vertical-align: middle;\n",
       "    }\n",
       "\n",
       "    .dataframe tbody tr th {\n",
       "        vertical-align: top;\n",
       "    }\n",
       "\n",
       "    .dataframe thead th {\n",
       "        text-align: right;\n",
       "    }\n",
       "</style>\n",
       "<table border=\"1\" class=\"dataframe\">\n",
       "  <thead>\n",
       "    <tr style=\"text-align: right;\">\n",
       "      <th></th>\n",
       "      <th>qid</th>\n",
       "      <th>prediction</th>\n",
       "    </tr>\n",
       "  </thead>\n",
       "  <tbody>\n",
       "    <tr>\n",
       "      <th>0</th>\n",
       "      <td>0000163e3ea7c7a74cd7</td>\n",
       "      <td>7.167920e-01</td>\n",
       "    </tr>\n",
       "    <tr>\n",
       "      <th>1</th>\n",
       "      <td>00002bd4fb5d505b9161</td>\n",
       "      <td>4.425936e-07</td>\n",
       "    </tr>\n",
       "    <tr>\n",
       "      <th>2</th>\n",
       "      <td>00007756b4a147d2b0b3</td>\n",
       "      <td>4.272657e-07</td>\n",
       "    </tr>\n",
       "    <tr>\n",
       "      <th>3</th>\n",
       "      <td>000086e4b7e1c7146103</td>\n",
       "      <td>3.191435e-05</td>\n",
       "    </tr>\n",
       "    <tr>\n",
       "      <th>4</th>\n",
       "      <td>0000c4c3fbe8785a3090</td>\n",
       "      <td>7.052676e-02</td>\n",
       "    </tr>\n",
       "    <tr>\n",
       "      <th>5</th>\n",
       "      <td>000101884c19f3515c1a</td>\n",
       "      <td>2.274667e-03</td>\n",
       "    </tr>\n",
       "    <tr>\n",
       "      <th>6</th>\n",
       "      <td>00010f62537781f44a47</td>\n",
       "      <td>6.008278e-06</td>\n",
       "    </tr>\n",
       "    <tr>\n",
       "      <th>7</th>\n",
       "      <td>00012afbd27452239059</td>\n",
       "      <td>9.023086e-07</td>\n",
       "    </tr>\n",
       "    <tr>\n",
       "      <th>8</th>\n",
       "      <td>00014894849d00ba98a9</td>\n",
       "      <td>5.715189e-05</td>\n",
       "    </tr>\n",
       "    <tr>\n",
       "      <th>9</th>\n",
       "      <td>000156468431f09b3cae</td>\n",
       "      <td>3.270926e-05</td>\n",
       "    </tr>\n",
       "  </tbody>\n",
       "</table>\n",
       "</div>"
      ],
      "text/plain": [
       "                    qid    prediction\n",
       "0  0000163e3ea7c7a74cd7  7.167920e-01\n",
       "1  00002bd4fb5d505b9161  4.425936e-07\n",
       "2  00007756b4a147d2b0b3  4.272657e-07\n",
       "3  000086e4b7e1c7146103  3.191435e-05\n",
       "4  0000c4c3fbe8785a3090  7.052676e-02\n",
       "5  000101884c19f3515c1a  2.274667e-03\n",
       "6  00010f62537781f44a47  6.008278e-06\n",
       "7  00012afbd27452239059  9.023086e-07\n",
       "8  00014894849d00ba98a9  5.715189e-05\n",
       "9  000156468431f09b3cae  3.270926e-05"
      ]
     },
     "execution_count": 70,
     "metadata": {},
     "output_type": "execute_result"
    }
   ],
   "source": [
    "submission.head(10)"
   ]
  },
  {
   "cell_type": "code",
   "execution_count": null,
   "id": "1d8891c5",
   "metadata": {},
   "outputs": [],
   "source": []
  }
 ],
 "metadata": {
  "kernelspec": {
   "display_name": "Python 3 (ipykernel)",
   "language": "python",
   "name": "python3"
  },
  "language_info": {
   "codemirror_mode": {
    "name": "ipython",
    "version": 3
   },
   "file_extension": ".py",
   "mimetype": "text/x-python",
   "name": "python",
   "nbconvert_exporter": "python",
   "pygments_lexer": "ipython3",
   "version": "3.9.12"
  }
 },
 "nbformat": 4,
 "nbformat_minor": 5
}
